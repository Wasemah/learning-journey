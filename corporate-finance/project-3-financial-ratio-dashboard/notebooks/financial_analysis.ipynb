{
 "cells": [
  {
   "cell_type": "markdown",
   "metadata": {},
   "source": [
    "# Financial Ratio Analysis Notebook\n",
    "\n",
    "Interactive analysis of company financial ratios and performance benchmarking.\n",
    "\n",
    "## Overview\n",
    "This notebook provides comprehensive financial ratio analysis for multiple companies across different industries, with comparison against industry benchmarks.\n",
    "\n",
    "## Companies Analyzed\n",
    "- TechCorp Inc (Technology)\n",
    "- Global Retail Co (Retail)\n",
    "- ManufacturePro (Manufacturing)"
   ]
  },
  {
   "cell_type": "code",
   "execution_count": null,
   "metadata": {},
   "outputs": [],
   "source": [
    "# Import required libraries\n",
    "import pandas as pd\n",
    "import numpy as np\n",
    "import matplotlib.pyplot as plt\n",
    "import seaborn as sns\n",
    "import plotly.express as px\n",
    "import plotly.graph_objects as go\n",
    "import json\n",
    "import warnings\n",
    "warnings.filterwarnings('ignore')\n",
    "\n",
    "# Set plotting style\n",
    "plt.style.use('seaborn-v0_8')\n",
    "sns.set_palette(\"husl\")\n",
    "\n",
    "print(\"✅ Libraries imported successfully\")"
   ]
  },
  {
   "cell_type": "markdown",
   "metadata": {},
   "source": [
    "## 1. Data Loading and Exploration"
   ]
  },
  {
   "cell_type": "code",
   "execution_count": null,
   "metadata": {},
   "outputs": [],
   "source": [
    "# Load financial data\n",
    "df = pd.read_csv('../data/financial_statements.csv')\n",
    "print(\"📊 Financial Data Overview:\")\n",
    "print(f\"Dataset shape: {df.shape}\")\n",
    "print(f\"Companies: {df['company_name'].unique()}\")\n",
    "print(f\"Periods: {df['period'].unique()}\")\n",
    "\n",
    "# Display basic statistics\n",
    "print(\"\\n📈 Basic Statistics:\")\n",
    "df.describe()"
   ]
  },
  {
   "cell_type": "code",
   "execution_count": null,
   "metadata": {},
   "outputs": [],
   "source": [
    "# Load industry benchmarks\n",
    "with open('../data/industry_benchmarks.json', 'r') as f:\n",
    "    benchmarks = json.load(f)\n",
    "\n",
    "print(\"🏭 Industry Benchmarks Loaded:\")\n",
    "for industry, metrics in benchmarks['industry_benchmarks'].items():\n",
    "    print(f\"\\n{industry}:\")\n",
    "    for category, ratios in metrics.items():\n",
    "        print(f\"  {category}: {len(ratios)} ratios\")"
   ]
  },
  {
   "cell_type": "markdown",
   "metadata": {},
   "source": [
    "## 2. Financial Ratio Calculations"
   ]
  },
  {
   "cell_type": "code",
   "execution_count": null,
   "metadata": {},
   "outputs": [],
   "source": [
    "# Import our ratio calculator\n",
    "import sys\n",
    "sys.path.append('../scripts')\n",
    "from ratio_calculator import RatioCalculator\n",
    "\n",
    "# Calculate ratios for each company\n",
    "ratio_results = {}\n",
    "calculator = RatioCalculator()\n",
    "\n",
    "for company_id in df['company_id'].unique():\n",
    "    company_data = df[df['company_id'] == company_id].iloc[-1]  # Latest quarter\n",
    "    company_name = company_data['company_name']\n",
    "    \n",
    "    ratios = calculator.calculate_all_ratios(company_data.to_dict())\n",
    "    ratio_results[company_id] = {\n",
    "        'company_name': company_name,\n",
    "        'industry': company_data['industry'],\n",
    "        'ratios': ratios\n",
    "    }\n",
    "    \n",
    "print(\"✅ Financial ratios calculated for all companies\")"
   ]
  },
  {
   "cell_type": "markdown",
   "metadata": {},
   "source": [
    "## 3. Profitability Analysis"
   ]
  },
  {
   "cell_type": "code",
   "execution_count": null,
   "metadata": {},
   "outputs": [],
   "source": [
    "# Extract profitability ratios\n",
    "profitability_data = []\n",
    "for company_id, data in ratio_results.items():\n",
    "    profitability = data['ratios']['profitability']\n",
    "    profitability_data.append({\n",
    "        'Company': data['company_name'],\n",
    "        'Industry': data['industry'],\n",
    "        'Gross Margin': profitability['gross_margin'],\n",
    "        'Operating Margin': profitability['operating_margin'],\n",
    "        'Net Margin': profitability['net_margin'],\n",
    "        'ROA': profitability['roa'],\n",
    "        'ROE': profitability['roe']\n",
    "    })\n",
    "\n",
    "profit_df = pd.DataFrame(profitability_data)\n",
    "print(\"💰 Profitability Ratios:\")\n",
    "profit_df"
   ]
  },
  {
   "cell_type": "code",
   "execution_count": null,
   "metadata": {},
   "outputs": [],
   "source": [
    "# Visualize profitability comparison\n",
    "fig, axes = plt.subplots(2, 2, figsize=(15, 10))\n",
    "\n",
    "# Gross Margin\n",
    "sns.barplot(data=profit_df, x='Company', y='Gross Margin', ax=axes[0,0], hue='Industry', dodge=False)\n",
    "axes[0,0].set_title('Gross Margin by Company')\n",
    "axes[0,0].tick_params(axis='x', rotation=45)\n",
    "\n",
    "# Net Margin\n",
    "sns.barplot(data=profit_df, x='Company', y='Net Margin', ax=axes[0,1], hue='Industry', dodge=False)\n",
    "axes[0,1].set_title('Net Profit Margin by Company')\n",
    "axes[0,1].tick_params(axis='x', rotation=45)\n",
    "\n",
    "# ROA\n",
    "sns.barplot(data=profit_df, x='Company', y='ROA', ax=axes[1,0], hue='Industry', dodge=False)\n",
    "axes[1,0].set_title('Return on Assets (ROA)')\n",
    "axes[1,0].tick_params(axis='x', rotation=45)\n",
    "\n",
    "# ROE\n",
    "sns.barplot(data=profit_df, x='Company', y='ROE', ax=axes[1,1], hue='Industry', dodge=False)\n",
    "axes[1,1].set_title('Return on Equity (ROE)')\n",
    "axes[1,1].tick_params(axis='x', rotation=45)\n",
    "\n",
    "plt.tight_layout()\n",
    "plt.show()"
   ]
  },
  {
   "cell_type": "markdown",
   "metadata": {},
   "source": [
    "## 4. Liquidity and Solvency Analysis"
   ]
  },
  {
   "cell_type": "code",
   "execution_count": null,
   "metadata": {},
   "outputs": [],
   "source": [
    "# Extract liquidity and leverage ratios\n",
    "liquidity_data = []\n",
    "for company_id, data in ratio_results.items():\n",
    "    liquidity = data['ratios']['liquidity']\n",
    "    leverage = data['ratios']['leverage']\n",
    "    liquidity_data.append({\n",
    "        'Company': data['company_name'],\n",
    "        'Industry': data['industry'],\n",
    "        'Current Ratio': liquidity['current_ratio'],\n",
    "        'Quick Ratio': liquidity['quick_ratio'],\n",
    "        'Cash Ratio': liquidity['cash_ratio'],\n",
    "        'Debt to Equity': leverage['debt_to_equity'],\n",
    "        'Interest Coverage': min(leverage['interest_coverage'], 20)  # Cap for visualization\n",
    "    })\n",
    "\n",
    "liquidity_df = pd.DataFrame(liquidity_data)\n",
    "print(\"💧 Liquidity and Leverage Ratios:\")\n",
    "liquidity_df"
   ]
  },
  {
   "cell_type": "code",
   "execution_count": null,
   "metadata": {},
   "outputs": [],
   "source": [
    "# Create interactive Plotly chart for liquidity analysis\n",
    "fig = px.scatter(liquidity_df, \n",
    "                 x='Current Ratio', \n",
    "                 y='Debt to Equity',\n",
    "                 size='Quick Ratio',\n",
    "                 color='Industry',\n",
    "                 hover_data=['Company', 'Interest Coverage'],\n",
    "                 title='Liquidity vs Leverage Analysis',\n",
    "                 size_max=30)\n",
    "\n",
    "# Add benchmark lines\n",
    "fig.add_hline(y=1.0, line_dash=\"dash\", line_color=\"red\", annotation_text=\"High Debt Risk\")\n",
    "fig.add_vline(x=1.5, line_dash=\"dash\", line_color=\"green\", annotation_text=\"Good Liquidity\")\n",
    "\n",
    "fig.show()"
   ]
  },
  {
   "cell_type": "markdown",
   "metadata": {},
   "source": [
    "## 5. Industry Benchmark Comparison"
   ]
  },
  {
   "cell_type": "code",
   "execution_count": null,
   "metadata": {},
   "outputs": [],
   "source": [
    "# Compare companies against their industry benchmarks\n",
    "comparison_results = []\n",
    "\n",
    "for company_id, data in ratio_results.items():\n",
    "    company_name = data['company_name']\n",
    "    industry = data['industry']\n",
    "    industry_benchmarks = benchmarks['industry_benchmarks'][industry]\n",
    "    \n",
    "    for category, ratios in data['ratios'].items():\n",
    "        if category in industry_benchmarks:\n",
    "            for ratio_name, ratio_value in ratios.items():\n",
    "                if ratio_name in industry_benchmarks[category]:\n",
    "                    benchmark_value = industry_benchmarks[category][ratio_name]\n",
    "                    difference = ratio_value - benchmark_value\n",
    "                    \n",
    "                    comparison_results.append({\n",
    "                        'Company': company_name,\n",
    "                        'Industry': industry,\n",
    "                        'Category': category,\n",
    "                        'Ratio': ratio_name,\n",
    "                        'Company_Value': ratio_value,\n",
    "                        'Benchmark': benchmark_value,\n",
    "                        'Difference': difference,\n",
    "                        'Status': 'Above' if difference > 0 else 'Below'\n",
    "                    })\n",
    "\n",
    "comparison_df = pd.DataFrame(comparison_results)\n",
    "print(\"📊 Benchmark Comparison Results:\")\n",
    "comparison_df.head(10)"
   ]
  },
  {
   "cell_type": "code",
   "execution_count": null,
   "metadata": {},
   "outputs": [],
   "source": [
    "# Create heatmap of performance vs benchmarks\n",
    "pivot_data = comparison_df.pivot_table(\n",
    "    index=['Company', 'Industry'], \n",
    "    columns='Ratio', \n",
    "    values='Difference', \n",
    "    aggfunc='first'\n",
    ")\n",
    "\n",
    "plt.figure(figsize=(12, 6))\n",
    "sns.heatmap(pivot_data, \n",
    "            annot=True, \n",
    "            cmap='RdYlGn', \n",
    "            center=0,\n",
    "            fmt='.3f',\n",
    "            linewidths=0.5)\n",
    "plt.title('Performance vs Industry Benchmarks (Green = Above, Red = Below)')\n",
    "plt.tight_layout()\n",
    "plt.show()"
   ]
  },
  {
   "cell_type": "markdown",
   "metadata": {},
   "source": [
    "## 6. Financial Health Scoring"
   ]
  },
  {
   "cell_type": "code",
   "execution_count": null,
   "metadata": {},
   "outputs": [],
   "source": [
    "# Calculate financial health scores\n",
    "health_scores = []\n",
    "\n",
    "for company_id, data in ratio_results.items():\n",
    "    company_name = data['company_name']\n",
    "    industry = data['industry']\n",
    "    \n",
    "    score = 0\n",
    "    total_metrics = 0\n",
    "    insights = []\n",
    "    \n",
    "    # Profitability assessment\n",
    "    profitability = data['ratios']['profitability']\n",
    "    if profitability['net_margin'] > 0.1:\n",
    "        score += 1\n",
    "        insights.append(\"Strong profitability\")\n",
    "    total_metrics += 1\n",
    "    \n",
    "    # Liquidity assessment\n",
    "    liquidity = data['ratios']['liquidity']\n",
    "    if liquidity['current_ratio'] > 1.5:\n",
    "        score += 1\n",
    "        insights.append(\"Good liquidity position\")\n",
    "    total_metrics += 1\n",
    "    \n",
    "    # Leverage assessment\n",
    "    leverage = data['ratios']['leverage']\n",
    "    if leverage['debt_to_equity'] < 1.0:\n",
    "        score += 1\n",
    "        insights.append(\"Conservative leverage\")\n",
    "    total_metrics += 1\n",
    "    \n",
    "    health_percentage = (score / total_metrics) * 100\n",
    "    \n",
    "    if health_percentage >= 80:\n",
    "        rating = \"Excellent\"\n",
    "    elif health_percentage >= 60:\n",
    "        rating = \"Good\"\n",
    "    elif health_percentage >= 40:\n",
    "        rating = \"Fair\"\n",
    "    else:\n",
    "        rating = \"Poor\"\n",
    "    \n",
    "    health_scores.append({\n",
    "        'Company': company_name,\n",
    "        'Industry': industry,\n",
    "        'Health_Score': health_percentage,\n",
    "        'Rating': rating,\n",
    "        'Insights': ', '.join(insights)\n",
    "    })\n",
    "\n",
    "health_df = pd.DataFrame(health_scores)\n",
    "print(\"🏥 Financial Health Assessment:\")\n",
    "health_df"
   ]
  },
  {
   "cell_type": "markdown",
   "metadata": {},
   "source": [
    "## 7. Investment Recommendations"
   ]
  },
  {
   "cell_type": "code",
   "execution_count": null,
   "metadata": {},
   "outputs": [],
   "source": [
    "# Generate investment recommendations\n",
    "recommendations = []\n",
    "\n",
    "for company_id, data in ratio_results.items():\n",
    "    company_name = data['company_name']\n",
    "    ratios = data['ratios']\n",
    "    \n",
    "    # Analyze strengths and weaknesses\n",
    "    strengths = []\n",
    "    weaknesses = []\n",
    "    \n",
    "    # Profitability analysis\n",
    "    if ratios['profitability']['net_margin'] > 0.15:\n",
    "        strengths.append(\"High profitability\")\n",
    "    elif ratios['profitability']['net_margin'] < 0.05:\n",
    "        weaknesses.append(\"Low profit margins\")\n",
    "    \n",
    "    # Liquidity analysis\n",
    "    if ratios['liquidity']['current_ratio'] > 2.0:\n",
    "        strengths.append(\"Strong liquidity\")\n",
    "    elif ratios['liquidity']['current_ratio'] < 1.0:\n",
    "        weaknesses.append(\"Potential liquidity concerns\")\n",
    "    \n",
    "    # Leverage analysis\n",
    "    if ratios['leverage']['debt_to_equity'] < 0.5:\n",
    "        strengths.append(\"Low debt levels\")\n",
    "    elif ratios['leverage']['debt_to_equity'] > 1.5:\n",
    "        weaknesses.append(\"High financial leverage\")\n",
    "    \n",
    "    # Generate recommendation\n",
    "    if len(strengths) >= 2 and len(weaknesses) <= 1:\n",
    "        recommendation = \"BUY\"\n",
    "        reasoning = \"Strong financial position with multiple strengths\"\n",
    "    elif len(strengths) >= len(weaknesses):\n",
    "        recommendation = \"HOLD\"\n",
    "        reasoning = \"Balanced financial profile with some areas for improvement\"\n",
    "    else:\n",
    "        recommendation = \"SELL\"\n",
    "        reasoning = \"Multiple financial weaknesses requiring attention\"\n",
    "    \n",
    "    recommendations.append({\n",
    "        'Company': company_name,\n",
    "        'Recommendation': recommendation,\n",
    "        'Reasoning': reasoning,\n",
    "        'Strengths': ', '.join(strengths) if strengths else 'None',\n",
    "        'Weaknesses': ', '.join(weaknesses) if weaknesses else 'None'\n",
    "    })\n",
    "\n",
    "reco_df = pd.DataFrame(recommendations)\n",
    "print(\"💡 Investment Recommendations:\")\n",
    "reco_df"
   ]
  },
  {
   "cell_type": "markdown",
   "metadata": {},
   "source": [
    "## Summary\n",
    "\n",
    "This analysis provides comprehensive financial ratio assessment across multiple companies and industries. Key findings:\n",
    "\n",
    "- **Profitability**: Identifies companies with strong vs weak profit margins\n",
    "- **Liquidity**: Assesses short-term financial health and cash position\n",
    "- **Leverage**: Evaluates debt levels and financial risk\n",
    "- **Benchmarking**: Compares performance against industry standards\n",
    "- **Investment Readiness**: Provides data-driven investment recommendations\n",
    "\n",
    "Use these insights for informed investment decisions and financial analysis."
   ]
  }
 ],
 "metadata": {
  "kernelspec": {
   "display_name": "Python 3",
   "language": "python",
   "name": "python3"
  },
  "language_info": {
   "codemirror_mode": {
    "name": "ipython",
    "version": 3
   },
   "file_extension": ".py",
   "mimetype": "text/x-python",
   "name": "python",
   "nbconvert_exporter": "python",
   "pygments_lexer": "ipython3",
   "version": "3.8.0"
  }
 },
 "nbformat": 4,
 "nbformat_minor": 4
}
